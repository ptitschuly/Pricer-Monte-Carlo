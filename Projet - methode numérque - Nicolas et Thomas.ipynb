{
 "cells": [
  {
   "cell_type": "markdown",
   "id": "5fb356e9",
   "metadata": {},
   "source": [
    "# Projet Méthode Numérique - Option Lookback"
   ]
  },
  {
   "cell_type": "code",
   "execution_count": 118,
   "id": "cb47532d",
   "metadata": {},
   "outputs": [],
   "source": [
    "import numpy as np\n",
    "#import pylab as pl\n",
    "from random import gauss #, uniform, randint\n",
    "from math import exp,sqrt,log\n",
    "from scipy.stats import norm\n",
    "import math\n",
    "import time\n",
    "import wand"
   ]
  },
  {
   "cell_type": "code",
   "execution_count": 110,
   "id": "32e7cbbb",
   "metadata": {},
   "outputs": [],
   "source": [
    "class Option_pricer:\n",
    "    def price_call(self,price, strike,volatility , maturity,interest_rate ,dt):\n",
    "        tps1 = time.clock()\n",
    "        x, var = 0, 0\n",
    "\n",
    "        IC = [0,0]\n",
    "        for i in range(N):\n",
    "            Ft = price\n",
    "            for i in range(int(maturity/dt)):\n",
    "                dW = gauss(0.0,sqrt(dt))\n",
    "                Ft = Ft * exp((interest_rate-0.5*volatility**2)*dt + volatility*dW)\n",
    "            Prix = exp(-interest_rate*maturity)*max(Ft-strike,0)  \n",
    "            x += Prix\n",
    "            var += Prix**2\n",
    "        var /= N\n",
    "        x /= N\n",
    "        var -= x**2\n",
    "        IC[1] = x + 2*sqrt(var/N)\n",
    "        IC[0] = x - 2*sqrt(var/N)\n",
    "        tps2 = time.clock()\n",
    "        timer = tps2 - tps1\n",
    "        return x, var, IC, timer\n",
    "    \n",
    "    def price_call_RV(self,price, strike,volatility , maturity,interest_rate ,dt):\n",
    "        tps1 = time.clock()\n",
    "        x, var = 0,0\n",
    "        IC = [0,0]\n",
    "        P = N/2\n",
    "        for i in range(int(P)):\n",
    "            lnFt = math.log(price)\n",
    "            lnFt2 = math.log(price)\n",
    "            for i in range(int(maturity/dt)):\n",
    "                dW = gauss(0,1)\n",
    "                lnFt = lnFt + (interest_rate - 0.5*volatility**2)*dt + volatility*sqrt(dt)*dW\n",
    "                lnFt2 = lnFt2 + (interest_rate - 0.5*volatility**2)*dt - volatility*sqrt(dt)*dW\n",
    "            Ft = exp(lnFt)\n",
    "            Ft2 = exp(lnFt2)\n",
    "            Prix = 0.5*(max(Ft2-strike,0) + max(Ft-strike,0))\n",
    "            Prix = exp(-interest_rate*maturity)*Prix\n",
    "            x += Prix\n",
    "            var += Prix**2\n",
    "        x /= P\n",
    "        var = var/P - x**2\n",
    "        IC[1] = x + 2*sqrt(var/P)\n",
    "        IC[0] = x - 2*sqrt(var/P)\n",
    "        tps2 = time.clock()\n",
    "        timer = tps2 - tps1\n",
    "        return x, var, IC,timer \n",
    "\n",
    "    \n",
    "    def lookback_call_bs(self,price,strike,volatility,maturity,interest_rate):\n",
    "        tps1 = time.clock()\n",
    "        x, var = 0, 0\n",
    "        min_st = 100\n",
    "        IC = [0,0]\n",
    "        for i in range(N):\n",
    "            Ft = price\n",
    "            for i in range(int(maturity/dt)):\n",
    "                dW = gauss(0.0,sqrt(dt))\n",
    "                Ft = Ft * exp((interest_rate-0.5*volatility**2)*dt + volatility*dW)\n",
    "            if Ft < min_st :\n",
    "                min_st = Ft\n",
    "            Prix = np.exp(-interest_rate*maturity)*max(Ft-min_st,0)  \n",
    "            x += Prix\n",
    "            var += Prix**2\n",
    "        var /= N\n",
    "        x /= N\n",
    "        var -= (x**2)\n",
    "        IC[1] = x + 2*sqrt(var/N)\n",
    "        IC[0] = x - 2*sqrt(var/N)\n",
    "        tps2 = time.clock()\n",
    "        timer = tps2 - tps1\n",
    "        return x, IC, var, timer\n",
    "    \n",
    "    def lookback_call_RV(self,price,strike,volatility,maturity,interest_rate):\n",
    "        tps1 = time.clock()\n",
    "        x, var = 0, 0\n",
    "        min_st,min_st2 = 100,100\n",
    "        IC = [0,0]\n",
    "        P = N/2\n",
    "        for i in range(int(P)):\n",
    "            Ft,Ft2 = price,price\n",
    "            for i in range(int(maturity/dt)):\n",
    "                dW = gauss(0.0,sqrt(dt))\n",
    "                Ft = Ft * exp((interest_rate-0.5*volatility**2)*dt + volatility*dW)\n",
    "                Ft2 = Ft2 * exp((interest_rate-0.5*volatility**2)*dt - volatility*dW)\n",
    "            if Ft < min_st :\n",
    "                min_st = Ft\n",
    "            if Ft2 <min_st2 :\n",
    "                min_st2 = Ft2\n",
    "            Prix = np.exp(-interest_rate*maturity)*0.5*(max(Ft-min_st,0)+max(Ft2-min_st2,0))\n",
    "            x += Prix\n",
    "            var += Prix**2\n",
    "        var /= P\n",
    "        x /= P\n",
    "        var -= x**2\n",
    "        IC[1] = x + 2*sqrt(var/N)\n",
    "        IC[0] = x - 2*sqrt(var/N)\n",
    "        tps2 = time.clock()\n",
    "        timer = tps2 - tps1\n",
    "        return x, IC, var, timer       \n",
    "    \n",
    "    def __init__(\n",
    "    self, price, strike, volatility, maturity,\n",
    "    interest_rate, dt):\n",
    "        self.price = price\n",
    "        self.strike = strike\n",
    "        self.volatility = volatility\n",
    "        self.maturity = maturity\n",
    "        self.interest_rate = interest_rate\n",
    "        self.dt = dt\n",
    "        self.price_call_MC,self.sd,self.IC,self.timerMC = self.price_call(price, strike, volatility,maturity,\n",
    "                              interest_rate, dt)\n",
    "        self.price_call_RV,self.sdRV,self.ICRV,self.timerMCRV= self.price_call_RV(price, strike, volatility,maturity,\n",
    "                              interest_rate, dt)\n",
    "        self.price_lookback_call,self.IClb,self.sdlb,self.timerLB = self.lookback_call_bs(price,strike,volatility,maturity,\n",
    "                                                                             interest_rate)\n",
    "        self.price_lookback_call_RV,self.IClb_RV,self.sdlb_RV,self.timerLBRV = self.lookback_call_RV(price,strike,volatility,\n",
    "                                                                                      maturity,interest_rate)"
   ]
  },
  {
   "cell_type": "markdown",
   "id": "5eaa626b",
   "metadata": {},
   "source": [
    "# Jeu MC1 :"
   ]
  },
  {
   "cell_type": "markdown",
   "id": "2e783eab",
   "metadata": {},
   "source": [
    "# exercice 1 : (ref photo)"
   ]
  },
  {
   "cell_type": "code",
   "execution_count": 123,
   "id": "4bffede0",
   "metadata": {},
   "outputs": [],
   "source": [
    "#ref Fichier pdf "
   ]
  },
  {
   "cell_type": "markdown",
   "id": "8ab27be2",
   "metadata": {},
   "source": [
    "# exercice 2"
   ]
  },
  {
   "cell_type": "code",
   "execution_count": 78,
   "id": "4477f418",
   "metadata": {},
   "outputs": [],
   "source": [
    "#CONTEXTE\n",
    "N = 1000 # le nombre d'essai\n",
    "interest_rate = 0.01 # les tx d'intérêts \n",
    "volatility = 0.2 # la volatilité, constante\n",
    "dt = 1/12 # pas mensuel"
   ]
  },
  {
   "cell_type": "code",
   "execution_count": 124,
   "id": "e3410dd1",
   "metadata": {},
   "outputs": [
    {
     "name": "stderr",
     "output_type": "stream",
     "text": [
      "C:\\Users\\schut\\Anaconda3\\lib\\site-packages\\ipykernel_launcher.py:3: DeprecationWarning: time.clock has been deprecated in Python 3.3 and will be removed from Python 3.8: use time.perf_counter or time.process_time instead\n",
      "  This is separate from the ipykernel package so we can avoid doing imports until\n",
      "C:\\Users\\schut\\Anaconda3\\lib\\site-packages\\ipykernel_launcher.py:20: DeprecationWarning: time.clock has been deprecated in Python 3.3 and will be removed from Python 3.8: use time.perf_counter or time.process_time instead\n",
      "C:\\Users\\schut\\Anaconda3\\lib\\site-packages\\ipykernel_launcher.py:25: DeprecationWarning: time.clock has been deprecated in Python 3.3 and will be removed from Python 3.8: use time.perf_counter or time.process_time instead\n",
      "C:\\Users\\schut\\Anaconda3\\lib\\site-packages\\ipykernel_launcher.py:46: DeprecationWarning: time.clock has been deprecated in Python 3.3 and will be removed from Python 3.8: use time.perf_counter or time.process_time instead\n",
      "C:\\Users\\schut\\Anaconda3\\lib\\site-packages\\ipykernel_launcher.py:52: DeprecationWarning: time.clock has been deprecated in Python 3.3 and will be removed from Python 3.8: use time.perf_counter or time.process_time instead\n",
      "C:\\Users\\schut\\Anaconda3\\lib\\site-packages\\ipykernel_launcher.py:71: DeprecationWarning: time.clock has been deprecated in Python 3.3 and will be removed from Python 3.8: use time.perf_counter or time.process_time instead\n",
      "C:\\Users\\schut\\Anaconda3\\lib\\site-packages\\ipykernel_launcher.py:76: DeprecationWarning: time.clock has been deprecated in Python 3.3 and will be removed from Python 3.8: use time.perf_counter or time.process_time instead\n"
     ]
    },
    {
     "name": "stdout",
     "output_type": "stream",
     "text": [
      "prix : 13.453482315106097 ;variance : 457.4743682453602 ;IC :  [12.100745284866502, 14.806219345345692] timer :  0.0847036000341177 \n",
      "\n",
      "prix avec RV : 12.541430240311785 ; variance : 137.4054378170472 ;IC : [11.492982100184493, 13.589878380439076] timer :  0.06772079999791458 \n",
      "\n"
     ]
    },
    {
     "name": "stderr",
     "output_type": "stream",
     "text": [
      "C:\\Users\\schut\\Anaconda3\\lib\\site-packages\\ipykernel_launcher.py:99: DeprecationWarning: time.clock has been deprecated in Python 3.3 and will be removed from Python 3.8: use time.perf_counter or time.process_time instead\n"
     ]
    }
   ],
   "source": [
    "price = 100\n",
    "maturity = 2\n",
    "strike = 100\n",
    "\n",
    "ec = Option_pricer(price,strike,volatility,maturity,interest_rate,dt)\n",
    "print(\"prix :\" ,ec.price_call_MC,\";variance :\",ec.sd,\";IC : \",ec.IC,\"timer : \",ec.timerMC,\"\\n\")\n",
    "print(\"prix avec RV :\",ec.price_call_RV,\"; variance :\",ec.sdRV,\";IC :\" ,ec.ICRV,\"timer : \",ec.timerMCRV,\"\\n\")"
   ]
  },
  {
   "cell_type": "markdown",
   "id": "b6793e0d",
   "metadata": {},
   "source": [
    "Le produit avec Réduction de variance bénéficie avant tout d'une reduction de temps car on génère deux fois moins de nombre aléatoire pour une même taille d'échantillon, et en plus de ça on est 2 à 3 fois plus efficace en terme de variance."
   ]
  },
  {
   "cell_type": "markdown",
   "id": "97e995cc",
   "metadata": {},
   "source": [
    "Analyse Qantitative du produit : \n"
   ]
  },
  {
   "cell_type": "markdown",
   "id": "96098163",
   "metadata": {},
   "source": [
    "Il existe deux types de lookback option, ici pour rappel on parle d'un floating strike puisque le strike ainsi que le prix sont volatiles. Toutefois c'est la valeur minimale du strike qu'on va prendre le maximal du stock dans un put et minimal dans un call.  \n",
    "C'est pour ça que l'on dit que lorsqu'on achète ce produit exotique on devient long en delta et donc en volatilité et en risk free rate car plus l'actif sous jacent fluctue plus il devient potentiellement bénéficiaire.\n",
    "Il faudrait modéliser la volatilité du sous jacent (stochastique) car c'est ça qui donne la valeur du produit."
   ]
  },
  {
   "cell_type": "code",
   "execution_count": 125,
   "id": "480791d5",
   "metadata": {},
   "outputs": [
    {
     "name": "stderr",
     "output_type": "stream",
     "text": [
      "C:\\Users\\schut\\Anaconda3\\lib\\site-packages\\ipykernel_launcher.py:3: DeprecationWarning: time.clock has been deprecated in Python 3.3 and will be removed from Python 3.8: use time.perf_counter or time.process_time instead\n",
      "  This is separate from the ipykernel package so we can avoid doing imports until\n",
      "C:\\Users\\schut\\Anaconda3\\lib\\site-packages\\ipykernel_launcher.py:20: DeprecationWarning: time.clock has been deprecated in Python 3.3 and will be removed from Python 3.8: use time.perf_counter or time.process_time instead\n",
      "C:\\Users\\schut\\Anaconda3\\lib\\site-packages\\ipykernel_launcher.py:25: DeprecationWarning: time.clock has been deprecated in Python 3.3 and will be removed from Python 3.8: use time.perf_counter or time.process_time instead\n",
      "C:\\Users\\schut\\Anaconda3\\lib\\site-packages\\ipykernel_launcher.py:46: DeprecationWarning: time.clock has been deprecated in Python 3.3 and will be removed from Python 3.8: use time.perf_counter or time.process_time instead\n",
      "C:\\Users\\schut\\Anaconda3\\lib\\site-packages\\ipykernel_launcher.py:52: DeprecationWarning: time.clock has been deprecated in Python 3.3 and will be removed from Python 3.8: use time.perf_counter or time.process_time instead\n",
      "C:\\Users\\schut\\Anaconda3\\lib\\site-packages\\ipykernel_launcher.py:71: DeprecationWarning: time.clock has been deprecated in Python 3.3 and will be removed from Python 3.8: use time.perf_counter or time.process_time instead\n",
      "C:\\Users\\schut\\Anaconda3\\lib\\site-packages\\ipykernel_launcher.py:76: DeprecationWarning: time.clock has been deprecated in Python 3.3 and will be removed from Python 3.8: use time.perf_counter or time.process_time instead\n",
      "C:\\Users\\schut\\Anaconda3\\lib\\site-packages\\ipykernel_launcher.py:99: DeprecationWarning: time.clock has been deprecated in Python 3.3 and will be removed from Python 3.8: use time.perf_counter or time.process_time instead\n"
     ]
    },
    {
     "name": "stdout",
     "output_type": "stream",
     "text": [
      "prix lookback: 58.705212639744474 ; variance : 955.4005421721699 [56.750320783735894, 60.66010449575305] timer :  0.08341439999639988 \n",
      " \n",
      "prix lookback avec RV : 49.941787622153576 ; variance : 83.97969704869502 [49.36220260837667, 50.52137263593048] timer :  0.05509749997872859\n"
     ]
    }
   ],
   "source": [
    "ec = Option_pricer(price,strike,volatility,maturity,interest_rate,dt)\n",
    "\n",
    "print(\"prix lookback:\" ,ec.price_lookback_call,\"; variance :\",ec.sdlb,ec.IClb,\"timer : \",ec.timerLB,\"\\n \")\n",
    "print(\"prix lookback avec RV :\",ec.price_lookback_call_RV,\"; variance :\",ec.sdlb_RV,ec.IClb_RV,\"timer : \",ec.timerLBRV)"
   ]
  },
  {
   "cell_type": "markdown",
   "id": "8bdf36eb",
   "metadata": {},
   "source": [
    "# MC2"
   ]
  },
  {
   "cell_type": "code",
   "execution_count": 6,
   "id": "9dc6ebe9",
   "metadata": {},
   "outputs": [],
   "source": [
    "#CONTEXTE : \n",
    "N = 1000 # le nombre d'essai\n",
    "interest_rate = 0.01 # les tx d'intérêts \n",
    "dt = 1/12 # pas mensuel"
   ]
  },
  {
   "cell_type": "code",
   "execution_count": 9,
   "id": "88c2a3aa",
   "metadata": {},
   "outputs": [],
   "source": [
    "class Option_pricer:\n",
    "    \n",
    "    def volatility(self,maturity):\n",
    "        if maturity ==1:\n",
    "            volatility = 0.15\n",
    "        elif maturity == 2:\n",
    "            volatility = 0.2\n",
    "        return volatility\n",
    "  \n",
    "    def lookback_call_bs(self,price,strike,maturity,volatility,interest_rate):\n",
    "        x, var = 0, 0\n",
    "        min_st = 100\n",
    "        IC = [0,0]\n",
    "        for i in range(N):\n",
    "            Ft = price\n",
    "            for i in range(int(maturity/dt)):\n",
    "                dW = gauss(0.0,sqrt(dt))\n",
    "                Ft = Ft * exp((interest_rate-0.5*volatility**2)*dt + volatility*dW)\n",
    "            if Ft < min_st :\n",
    "                min_st = Ft\n",
    "            Prix = exp(-interest_rate*maturity)*max(Ft-min_st,0)  \n",
    "            x += Prix\n",
    "            var += Prix**2\n",
    "        var /= N\n",
    "        x /= N\n",
    "        var -= x**2\n",
    "        IC[1] = x + 2*sqrt(var/N)\n",
    "        IC[0] = x - 2*sqrt(var/N)\n",
    "        return x, IC, var\n",
    "  \n",
    "    def __init__(\n",
    "    self, price, strike, volatility, maturity,\n",
    "    interest_rate, dt):\n",
    "        self.price = price\n",
    "        self.strike = strike\n",
    "        self.volatility = self.volatility(maturity)\n",
    "        self.maturity = maturity\n",
    "        self.interest_rate = interest_rate\n",
    "        self.dt = dt\n",
    "        self.price_lookback_call,self.IClb,self.sdlb = self.lookback_call_bs(price,strike,maturity,volatility,interest_rate)"
   ]
  },
  {
   "cell_type": "code",
   "execution_count": 10,
   "id": "97776b2a",
   "metadata": {},
   "outputs": [
    {
     "name": "stdout",
     "output_type": "stream",
     "text": [
      "prix : 55.79976830344001 [53.90109949788715, 57.69843710899287] 901.2358082948808\n"
     ]
    }
   ],
   "source": [
    "ec = Option_pricer(price,strike,volatility,maturity,interest_rate,dt)\n",
    "print(\"prix :\" ,ec.price_lookback_call,ec.IClb,ec.sdlb)"
   ]
  },
  {
   "cell_type": "markdown",
   "id": "5f34c082",
   "metadata": {},
   "source": [
    "#  BINOMIAL"
   ]
  },
  {
   "cell_type": "code",
   "execution_count": 11,
   "id": "20482c97",
   "metadata": {},
   "outputs": [],
   "source": [
    "#CONTEXTE\n",
    "dt = 1/12\n",
    "price  = 30\n",
    "maturity = 2\n",
    "volatility = 0.001\n",
    "strike = 30\n",
    "interest_rate = 0.005\n",
    "N =  int(maturity/dt)"
   ]
  },
  {
   "cell_type": "code",
   "execution_count": 12,
   "id": "ac6e903a",
   "metadata": {},
   "outputs": [
    {
     "data": {
      "text/plain": [
       "0.29758067780838965"
      ]
     },
     "execution_count": 12,
     "metadata": {},
     "output_type": "execute_result"
    }
   ],
   "source": [
    "def combos(n, i):\n",
    "    return math.factorial(n) / (math.factorial(n-i)*math.factorial(i))\n",
    "    \n",
    "def binom_EU1(price, strike , maturity, interest_rate, volatility, N):\n",
    "    dt = maturity/N\n",
    "    u = np.exp(volatility * np.sqrt(dt))\n",
    "    d = np.exp(-volatility * np.sqrt(dt))\n",
    "    p = (  np.exp(interest_rate*dt) - d )  /  (  u - d )\n",
    "    S0 = price\n",
    "    value = 0\n",
    "    for i in range(N+1):\n",
    "        node_prob = combos(N, i)*p**i*(1-p)**(N-i)\n",
    "        ST = S0*(u)**i*(d)**(N-i)\n",
    "        value += max(ST-strike,0) * node_prob\n",
    "            \n",
    "    return value*np.exp(-interest_rate*maturity)\n",
    "\n",
    "\n",
    "binom_EU1(price,strike,maturity,interest_rate, volatility,N)"
   ]
  },
  {
   "cell_type": "markdown",
   "id": "14243747",
   "metadata": {},
   "source": [
    "# OPTION BERMUDIENNE"
   ]
  },
  {
   "cell_type": "code",
   "execution_count": null,
   "id": "19b4c15a",
   "metadata": {},
   "outputs": [],
   "source": []
  }
 ],
 "metadata": {
  "kernelspec": {
   "display_name": "Python 3 (ipykernel)",
   "language": "python",
   "name": "python3"
  },
  "language_info": {
   "codemirror_mode": {
    "name": "ipython",
    "version": 3
   },
   "file_extension": ".py",
   "mimetype": "text/x-python",
   "name": "python",
   "nbconvert_exporter": "python",
   "pygments_lexer": "ipython3",
   "version": "3.7.4"
  }
 },
 "nbformat": 4,
 "nbformat_minor": 5
}
